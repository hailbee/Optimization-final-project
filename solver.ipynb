{
 "cells": [
  {
   "cell_type": "markdown",
   "metadata": {},
   "source": [
    "Solver"
   ]
  },
  {
   "cell_type": "code",
   "execution_count": 1,
   "metadata": {},
   "outputs": [],
   "source": [
    "using JuMP\n",
    "using Gurobi\n",
    "using CSV\n",
    "using DataFrames"
   ]
  },
  {
   "cell_type": "markdown",
   "metadata": {},
   "source": [
    "Data Importation"
   ]
  },
  {
   "cell_type": "code",
   "execution_count": 11,
   "metadata": {},
   "outputs": [],
   "source": [
    "budgets_demand = CSV.File(\"./data/budgets_demand.csv\",header=0) |> Tables.matrix;\n",
    "impression_data = CSV.File(\"./data/impression_per_age.csv\",header=0) |> Tables.matrix; # plaform, age group, impressions rate\n",
    "company_rcs_data = CSV.File(\"./data/company_rcs.csv\",header=0) |> Tables.matrix; # company, rps\n",
    "platform_variables_data = CSV.File(\"./data/platform_variables.csv\",header=0) |> Tables.matrix; # platform, variable, value\n"
   ]
  },
  {
   "cell_type": "markdown",
   "metadata": {},
   "source": [
    "Clean Data"
   ]
  },
  {
   "cell_type": "code",
   "execution_count": 23,
   "metadata": {},
   "outputs": [],
   "source": [
    "# define dictionaries to use\n",
    "\n",
    "# B: budget\n",
    "budget_dict = Dict() # dict of (company) -> budget; 50 companies\n",
    "for i in 2:size(budgets_demand,1)\n",
    "    budget_dict[budgets_demand[i, 1]] = parse(Int, budgets_demand[i, 2])\n",
    "end\n",
    "\n",
    "# R_a: total reach demanded for each age group\n",
    "demand_dict = Dict() # dict of (company, age group) -> demand; 50 companies, 4 age groups\n",
    "age_groups = [\"18-24\", \"25-34\", \"35-44\", \"45-60\"]\n",
    "for i in 2:size(budgets_demand,1)\n",
    "    for j in 3:size(budgets_demand,2)\n",
    "        demand_dict[(budgets_demand[i, 1], budgets_demand[1,j])] = parse(Int, budgets_demand[i,j])\n",
    "    end\n",
    "end\n",
    "\n",
    "# impression rate per age group (a_ap*i_p)\n",
    "impressions_per_age = Dict() # dict of (platform, age group) -> impression rate\n",
    "for i in 2:size(impression_data,1)\n",
    "    str_value = string(impression_data[i, 3])  # Convert to regular String\n",
    "    impressions_per_age[(impression_data[i, 1], impression_data[i, 2])] = parse(Float64, str_value)  # Parse to Int\n",
    "end\n",
    "\n",
    "\n",
    "# company revenue per conversion\n",
    "company_rcs = Dict() # dict of company -> r_c\n",
    "for i in 1:size(company_rcs_data,2)\n",
    "    # row 1 is company name, row 2 is r_c\n",
    "    company_rcs[company_rcs_data[1, i]] = parse(Float64, company_rcs_data[2, i])\n",
    "end\n",
    "\n",
    "# platform variables\n",
    "# constant for all companies need for each platform, \n",
    "    # w_p: click_rate\n",
    "    # i_p: impression_rate\n",
    "    # f_p: average_impression_rate\n",
    "    # c_p: conversion rate\n",
    "    # s_p: cost per click \n",
    "\n",
    "platform_variables = Dict() # dict of (platform, variable) -> value\n",
    "for i in 2:size(platform_variables_data, 2)\n",
    "    for j in 2:size(platform_variables_data, 1)\n",
    "        platform_variables[platform_variables_data[1, i], platform_variables_data[j, 1]] = parse(Float64, platform_variables_data[j, i])\n",
    "    end\n",
    "end\n",
    "\n"
   ]
  },
  {
   "cell_type": "code",
   "execution_count": 24,
   "metadata": {},
   "outputs": [
    {
     "name": "stdout",
     "output_type": "stream",
     "text": [
      "Set parameter Username\n",
      "Academic license - for non-commercial use only - expires 2025-09-08\n"
     ]
    },
    {
     "name": "stderr",
     "output_type": "stream",
     "text": [
      "WARNING: redefinition of constant Main.GRB_ENV. This may fail, cause incorrect answers, or produce other errors.\n"
     ]
    }
   ],
   "source": [
    "const GRB_ENV = Gurobi.Env(output_flag=1);"
   ]
  },
  {
   "cell_type": "markdown",
   "metadata": {},
   "source": [
    "Solver"
   ]
  },
  {
   "cell_type": "code",
   "execution_count": 36,
   "metadata": {},
   "outputs": [
    {
     "name": "stdout",
     "output_type": "stream",
     "text": [
      "Optimizing for company: Silk & Style\n",
      "Gurobi Optimizer version 11.0.2 build v11.0.2rc0 (mac64[arm] - Darwin 23.5.0 23F79)\n",
      "\n",
      "CPU model: Apple M2 Pro\n",
      "Thread count: 12 physical cores, 12 logical processors, using up to 12 threads\n",
      "\n",
      "Optimize a model with 5 rows, 3 columns and 15 nonzeros\n",
      "Model fingerprint: 0x505c8474\n",
      "Coefficient statistics:\n",
      "  Matrix range     [6e-01, 3e+00]\n",
      "  Objective range  [6e+00, 6e+00]\n",
      "  Bounds range     [0e+00, 0e+00]\n",
      "  RHS range        [4e+02, 1e+03]\n",
      "Presolve time: 0.00s\n",
      "Presolved: 5 rows, 3 columns, 15 nonzeros\n",
      "\n",
      "Iteration    Objective       Primal Inf.    Dual Inf.      Time\n",
      "       0    1.8035288e+31   1.831488e+30   1.803529e+01      0s\n",
      "       1    3.8904116e+03   0.000000e+00   0.000000e+00      0s\n",
      "\n",
      "Solved in 1 iterations and 0.00 seconds (0.00 work units)\n",
      "Optimal objective  3.890411599e+03\n",
      "\n",
      "User-callback calls 58, time in user-callback 0.00 sec\n",
      "Optimizing for company: Vogue Visions\n",
      "Gurobi Optimizer version 11.0.2 build v11.0.2rc0 (mac64[arm] - Darwin 23.5.0 23F79)\n",
      "\n",
      "CPU model: Apple M2 Pro\n",
      "Thread count: 12 physical cores, 12 logical processors, using up to 12 threads\n",
      "\n",
      "Optimize a model with 5 rows, 3 columns and 15 nonzeros\n",
      "Model fingerprint: 0x9bce84ca\n",
      "Coefficient statistics:\n",
      "  Matrix range     [6e-01, 3e+00]\n",
      "  Objective range  [5e+00, 6e+00]\n",
      "  Bounds range     [0e+00, 0e+00]\n",
      "  RHS range        [4e+02, 3e+03]\n",
      "Presolve time: 0.00s\n",
      "Presolved: 5 rows, 3 columns, 15 nonzeros\n",
      "\n",
      "Iteration    Objective       Primal Inf.    Dual Inf.      Time\n",
      "       0    1.6490711e+31   1.831488e+30   1.649071e+01      0s\n",
      "       1    6.7019247e+03   0.000000e+00   0.000000e+00      0s\n",
      "\n",
      "Solved in 1 iterations and 0.00 seconds (0.00 work units)\n",
      "Optimal objective  6.701924712e+03\n",
      "\n",
      "User-callback calls 58, time in user-callback 0.00 sec\n",
      "Optimizing for company: Hearth Harmony\n",
      "Gurobi Optimizer version 11.0.2 build v11.0.2rc0 (mac64[arm] - Darwin 23.5.0 23F79)\n",
      "\n",
      "CPU model: Apple M2 Pro\n",
      "Thread count: 12 physical cores, 12 logical processors, using up to 12 threads\n",
      "\n",
      "Optimize a model with 5 rows, 3 columns and 15 nonzeros\n",
      "Model fingerprint: 0x56c01ab4\n",
      "Coefficient statistics:\n",
      "  Matrix range     [6e-01, 3e+00]\n",
      "  Objective range  [6e+00, 7e+00]\n",
      "  Bounds range     [0e+00, 0e+00]\n",
      "  RHS range        [6e+01, 1e+03]\n",
      "Presolve time: 0.00s\n",
      "Presolved: 5 rows, 3 columns, 15 nonzeros\n",
      "\n",
      "Iteration    Objective       Primal Inf.    Dual Inf.      Time\n",
      "       0    1.9901977e+31   1.831488e+30   1.990198e+01      0s\n",
      "\n",
      "Solved in 2 iterations and 0.00 seconds (0.00 work units)\n",
      "Infeasible model\n",
      "\n",
      "User-callback calls 62, time in user-callback 0.00 sec\n"
     ]
    },
    {
     "ename": "ErrorException",
     "evalue": "Gurobi Error 10005: Unable to retrieve attribute 'ObjVal'",
     "output_type": "error",
     "traceback": [
      "Gurobi Error 10005: Unable to retrieve attribute 'ObjVal'\n",
      "\n",
      "Stacktrace:\n",
      "  [1] _check_ret\n",
      "    @ ~/.julia/packages/Gurobi/uP4zR/src/MOI_wrapper/MOI_wrapper.jl:376 [inlined]\n",
      "  [2] get(model::Gurobi.Optimizer, attr::MathOptInterface.ObjectiveValue)\n",
      "    @ Gurobi ~/.julia/packages/Gurobi/uP4zR/src/MOI_wrapper/MOI_wrapper.jl:3223\n",
      "  [3] get(b::MathOptInterface.Bridges.LazyBridgeOptimizer{Gurobi.Optimizer}, attr::MathOptInterface.ObjectiveValue)\n",
      "    @ MathOptInterface.Bridges ~/.julia/packages/MathOptInterface/1fRdT/src/Bridges/bridge_optimizer.jl:1098\n",
      "  [4] _get_model_attribute(model::MathOptInterface.Utilities.CachingOptimizer{MathOptInterface.Bridges.LazyBridgeOptimizer{Gurobi.Optimizer}, MathOptInterface.Utilities.UniversalFallback{MathOptInterface.Utilities.Model{Float64}}}, attr::MathOptInterface.ObjectiveValue)\n",
      "    @ MathOptInterface.Utilities ~/.julia/packages/MathOptInterface/1fRdT/src/Utilities/cachingoptimizer.jl:833\n",
      "  [5] get\n",
      "    @ ~/.julia/packages/MathOptInterface/1fRdT/src/Utilities/cachingoptimizer.jl:900 [inlined]\n",
      "  [6] _moi_get_result(model::MathOptInterface.Utilities.CachingOptimizer{MathOptInterface.Bridges.LazyBridgeOptimizer{Gurobi.Optimizer}, MathOptInterface.Utilities.UniversalFallback{MathOptInterface.Utilities.Model{Float64}}}, args::MathOptInterface.ObjectiveValue)\n",
      "    @ JuMP ~/.julia/packages/JuMP/PKxEW/src/optimizer_interface.jl:1053\n",
      "  [7] get(model::Model, attr::MathOptInterface.ObjectiveValue)\n",
      "    @ JuMP ~/.julia/packages/JuMP/PKxEW/src/optimizer_interface.jl:1073\n",
      "  [8] objective_value(model::Model; result::Int64)\n",
      "    @ JuMP ~/.julia/packages/JuMP/PKxEW/src/objective.jl:122\n",
      "  [9] objective_value(model::Model)\n",
      "    @ JuMP ~/.julia/packages/JuMP/PKxEW/src/objective.jl:118\n",
      " [10] top-level scope\n",
      "    @ ~/Desktop/Optimization-final-project/jl_notebook_cell_df34fa98e69747e1a8f8a730347b8e2f_X12sZmlsZQ==.jl:36"
     ]
    }
   ],
   "source": [
    "platforms_l = [\"Facebook\", \"Instagram\", \"Twitter\"] # keept this order\n",
    "companies_l = collect(keys(budget_dict)) # keept this order\n",
    "age_groups = [\"18-24\", \"25-34\", \"35-44\", \"45-60\"]\n",
    "\n",
    "\n",
    "# model for each company\n",
    "optimized_solutions= Dict() # dict of company -> {t -> [t_p], optimal_value -> value}\n",
    "\n",
    "for i in 1:length(companies_l)\n",
    "    company = companies_l[i]\n",
    "    println(\"Optimizing for company: \", company)\n",
    "    model = Model(() -> Gurobi.Optimizer(GRB_ENV))\n",
    "\n",
    "    ### decision variable ###\n",
    "    # hours of advertisement allocated to platform p by company c: t_p\n",
    "    @variable(model, t[1:length(platforms_l)] >= 0);\n",
    "\n",
    "    ### constraints ###\n",
    "    # reach for certain age group must reach a min\n",
    "    @constraint(model, [a in 1:length(age_groups)], sum(((impressions_per_age[platforms_l[p], age_groups[a]] * t[p])/platform_variables[platforms_l[p], \"f_p\"] for p in 1:length(platforms_l))) >= demand_dict[company, age_groups[a]]);\n",
    "\n",
    "    # budget constraint\n",
    "    @constraint(model, sum(platform_variables[platforms_l[p], \"s_p\"] * (platform_variables[platforms_l[p], \"w_p\"]*(platform_variables[platforms_l[p], \"i_p\"]*t[p])/platform_variables[platforms_l[p], \"f_p\"]) for p in 1:length(platforms_l)) <= budget_dict[company]);\n",
    "\n",
    "\n",
    "    @objective(model, Max,\n",
    "    sum((\n",
    "        (platform_variables[platforms_l[p], \"w_p\"]*(platform_variables[platforms_l[p], \"i_p\"]*t[p])/platform_variables[platforms_l[p], \"f_p\"])*platform_variables[platforms_l[p], \"c_p\"]*company_rcs[company]\n",
    "        - platform_variables[platforms_l[p], \"s_p\"] * (platform_variables[platforms_l[p], \"w_p\"]*(platform_variables[platforms_l[p], \"i_p\"]*t[p])/platform_variables[platforms_l[p], \"f_p\"])\n",
    "        for p in 1:length(platforms_l))\n",
    "    ));\n",
    "\n",
    "    optimize!(model)\n",
    "    optimized_solutions[company] = Dict()\n",
    "    optimized_solutions[company][\"t\"] = value.(t)\n",
    "    optimized_solutions[company][\"optimal_profit\"] = objective_value(model)\n",
    "end\n",
    "\n"
   ]
  },
  {
   "cell_type": "code",
   "execution_count": 31,
   "metadata": {},
   "outputs": [
    {
     "data": {
      "text/plain": [
       "Dict{Any, Any} with 2 entries:\n",
       "  \"optimal_value\" => 3890.41\n",
       "  \"t\"             => [0.0, 0.0, 621.949]"
      ]
     },
     "metadata": {},
     "output_type": "display_data"
    }
   ],
   "source": [
    "optimized_solutions[\"Silk & Style\"]"
   ]
  },
  {
   "cell_type": "code",
   "execution_count": null,
   "metadata": {},
   "outputs": [],
   "source": []
  }
 ],
 "metadata": {
  "kernelspec": {
   "display_name": "Julia 1.10.5",
   "language": "julia",
   "name": "julia-1.10"
  },
  "language_info": {
   "file_extension": ".jl",
   "mimetype": "application/julia",
   "name": "julia",
   "version": "1.10.5"
  }
 },
 "nbformat": 4,
 "nbformat_minor": 2
}
