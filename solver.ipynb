{
 "cells": [
  {
   "cell_type": "markdown",
   "metadata": {},
   "source": [
    "Solver"
   ]
  },
  {
   "cell_type": "code",
   "execution_count": 2,
   "metadata": {},
   "outputs": [],
   "source": [
    "using JuMP\n",
    "using Gurobi\n",
    "using CSV\n",
    "using DataFrames"
   ]
  },
  {
   "cell_type": "markdown",
   "metadata": {},
   "source": [
    "Data Importation"
   ]
  },
  {
   "cell_type": "code",
   "execution_count": 11,
   "metadata": {},
   "outputs": [],
   "source": [
    "budgets_demand = CSV.File(\"./data/budgets_demand.csv\",header=0) |> Tables.matrix;\n",
    "# first column is the companies\n",
    "companies = budgets_demand[:,1]\n",
    "# second column is the budget\n",
    "budgets = budgets_demand[:,2]\n",
    "# third column is the demand per age group\n",
    "demands = budgets_demand[:,3:end] # \"18-24\"  \"25-34\"  \"35-44\"  \"45-60\"\n",
    "\n",
    "impression_data = CSV.File(\"./data/impression_per_age.csv\",header=0) |> Tables.matrix; # plaform, age group, impressions rate\n",
    "\n",
    "all_data = CSV.File(\"./data/merged_data.csv\",header=0) |> Tables.matrix;"
   ]
  },
  {
   "cell_type": "code",
   "execution_count": null,
   "metadata": {},
   "outputs": [
    {
     "data": {
      "text/plain": [
       "134948×19 Matrix{String31}:\n",
       " \"Platform\"   \"Company\"         \"Duration\"  …  \"s_p\"\n",
       " \"Instagram\"  \"Aura Align\"      \"360\"          \"1.2802857225639666\"\n",
       " \"Instagram\"  \"Aura Align\"      \"360\"          \"1.2802857225639666\"\n",
       " \"Instagram\"  \"Aura Align\"      \"360\"          \"1.2802857225639666\"\n",
       " \"Instagram\"  \"Aura Align\"      \"360\"          \"1.2802857225639666\"\n",
       " \"Instagram\"  \"Aura Align\"      \"360\"       …  \"1.2802857225639666\"\n",
       " \"Instagram\"  \"Aura Align\"      \"360\"          \"1.2802857225639666\"\n",
       " \"Instagram\"  \"Aura Align\"      \"360\"          \"1.2802857225639666\"\n",
       " \"Instagram\"  \"Aura Align\"      \"360\"          \"1.2802857225639666\"\n",
       " \"Instagram\"  \"Aura Align\"      \"360\"          \"1.2802857225639666\"\n",
       " ⋮                                          ⋱  \n",
       " \"Facebook\"   \"Epicurean Edge\"  \"360\"          \"1.149816047538945\"\n",
       " \"Facebook\"   \"Epicurean Edge\"  \"360\"       …  \"1.149816047538945\"\n",
       " \"Facebook\"   \"Epicurean Edge\"  \"360\"          \"1.149816047538945\"\n",
       " \"Facebook\"   \"Epicurean Edge\"  \"360\"          \"1.149816047538945\"\n",
       " \"Facebook\"   \"Epicurean Edge\"  \"360\"          \"1.149816047538945\"\n",
       " \"Facebook\"   \"Epicurean Edge\"  \"360\"          \"1.149816047538945\"\n",
       " \"Facebook\"   \"Epicurean Edge\"  \"360\"       …  \"1.149816047538945\"\n",
       " \"Facebook\"   \"Epicurean Edge\"  \"360\"          \"1.149816047538945\"\n",
       " \"Facebook\"   \"Epicurean Edge\"  \"360\"          \"1.149816047538945\""
      ]
     },
     "metadata": {},
     "output_type": "display_data"
    }
   ],
   "source": [
    "all_data\n",
    "# need w_p (click rate),  i_p (impression rate), f_p (average frequency of an advertisement on platform p)"
   ]
  }
 ],
 "metadata": {
  "kernelspec": {
   "display_name": "Julia 1.10.5",
   "language": "julia",
   "name": "julia-1.10"
  },
  "language_info": {
   "file_extension": ".jl",
   "mimetype": "application/julia",
   "name": "julia",
   "version": "1.10.5"
  }
 },
 "nbformat": 4,
 "nbformat_minor": 2
}
