{
 "cells": [
  {
   "cell_type": "markdown",
   "metadata": {},
   "source": [
    "Solver"
   ]
  },
  {
   "cell_type": "code",
   "execution_count": 2,
   "metadata": {},
   "outputs": [],
   "source": [
    "using JuMP\n",
    "using Gurobi\n",
    "using CSV\n",
    "using DataFrames"
   ]
  },
  {
   "cell_type": "markdown",
   "metadata": {},
   "source": [
    "Data Importation"
   ]
  },
  {
   "cell_type": "code",
   "execution_count": 34,
   "metadata": {},
   "outputs": [],
   "source": [
    "budgets_demand = CSV.File(\"./data/budgets_demand.csv\",header=0) |> Tables.matrix;\n",
    "impression_data = CSV.File(\"./data/impression_per_age.csv\",header=0) |> Tables.matrix; # plaform, age group, impressions rate\n",
    "company_rcs_data = CSV.File(\"./data/company_rcs.csv\",header=0) |> Tables.matrix; # company, rps\n",
    "platform_variables_data = CSV.File(\"./data/platform_variables.csv\",header=0) |> Tables.matrix; # platform, variable, value\n"
   ]
  },
  {
   "cell_type": "markdown",
   "metadata": {},
   "source": [
    "Clean Data"
   ]
  },
  {
   "cell_type": "code",
   "execution_count": 50,
   "metadata": {},
   "outputs": [],
   "source": [
    "# define dictionaries to use\n",
    "\n",
    "# B: budget\n",
    "budget_dict = Dict() # dict of (company) -> budget; 50 companies\n",
    "for i in 2:size(budgets_demand,1)\n",
    "    budget_dict[budgets_demand[i, 1]] = parse(Int, budgets_demand[i, 2])\n",
    "end\n",
    "\n",
    "# R_a: total reach demanded for each age group\n",
    "demand_dict = Dict() # dict of (company, age group) -> demand; 50 companies, 4 age groups\n",
    "age_groups = [\"18-24\", \"25-34\", \"35-44\", \"45-60\"]\n",
    "for i in 2:size(budgets_demand,1)\n",
    "    for j in 1:4\n",
    "        demand_dict[(budgets_demand[i, 1], demands[1,j])] = parse(Int, demands[i,j])\n",
    "    end\n",
    "end\n",
    "\n",
    "# impression rate per age group (a_ap*i_p)\n",
    "impressions_per_age = Dict() # dict of (platform, age group) -> impression rate\n",
    "for i in 2:size(impression_data,1)\n",
    "    str_value = string(impression_data[i, 3])  # Convert to regular String\n",
    "    impressions_per_age[(impression_data[i, 1], impression_data[i, 2])] = parse(Float64, str_value)  # Parse to Int\n",
    "end\n",
    "\n",
    "\n",
    "# company revenue per conversion\n",
    "company_rcs = Dict() # dict of company -> r_c\n",
    "for i in 1:size(company_rcs_data,2)\n",
    "    # row 1 is company name, row 2 is r_c\n",
    "    company_rcs[company_rcs_data[1, i]] = parse(Float64, company_rcs_data[2, i])\n",
    "end\n",
    "\n",
    "# platform variables\n",
    "# constant for all companies need for each platform, \n",
    "    # w_p: click_rate\n",
    "    # i_p: impression_rate\n",
    "    # f_p: average_impression_rate\n",
    "    # c_p: conversion rate\n",
    "    # s_p: cost per click \n",
    "\n",
    "platform_variables = Dict() # dict of (platform, variable) -> value\n",
    "for i in 2:size(platform_variables_data, 2)\n",
    "    for j in 2:size(platform_variables_data, 1)\n",
    "        platform_variables[platform_variables_data[1, i], platform_variables_data[j, 1]] = parse(Float64, platform_variables_data[j, i])\n",
    "    end\n",
    "end\n",
    "\n"
   ]
  }
 ],
 "metadata": {
  "kernelspec": {
   "display_name": "Julia 1.10.5",
   "language": "julia",
   "name": "julia-1.10"
  },
  "language_info": {
   "file_extension": ".jl",
   "mimetype": "application/julia",
   "name": "julia",
   "version": "1.10.5"
  }
 },
 "nbformat": 4,
 "nbformat_minor": 2
}
